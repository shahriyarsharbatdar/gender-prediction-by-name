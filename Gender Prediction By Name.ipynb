{
 "cells": [
  {
   "cell_type": "markdown",
   "id": "aa5ea3e2-1ab1-4ef5-a0ed-3124daadb1b1",
   "metadata": {},
   "source": [
    "# Gender Prediction By Name"
   ]
  },
  {
   "cell_type": "code",
   "execution_count": null,
   "id": "02dad8c8-3bc9-4459-bb13-c63123505019",
   "metadata": {},
   "outputs": [],
   "source": [
    "!pip install names-dataset\n",
    "!pip install Faker"
   ]
  },
  {
   "cell_type": "code",
   "execution_count": null,
   "id": "6b76c3db-bd25-4a10-b880-02390fb1974b",
   "metadata": {
    "tags": []
   },
   "outputs": [],
   "source": [
    "!pip install matplotlib"
   ]
  },
  {
   "cell_type": "code",
   "execution_count": 112,
   "id": "18644b97-0906-48bc-847a-1a457bf2abc8",
   "metadata": {},
   "outputs": [],
   "source": [
    "import numpy as np\n",
    "import pandas as pd\n",
    "import matplotlib.pyplot as plt\n",
    "import seaborn as sns\n",
    "import re\n",
    "import json\n",
    "from collections import Counter"
   ]
  },
  {
   "cell_type": "code",
   "execution_count": 60,
   "id": "d7923269-3e94-4c87-8ea3-4e72fd391a53",
   "metadata": {},
   "outputs": [],
   "source": [
    "from names_dataset import NameDataset\n",
    "from faker import Faker\n",
    "fake = Faker(['en_US','fa'])\n",
    "nd = NameDataset()"
   ]
  },
  {
   "cell_type": "markdown",
   "id": "fd096cb1-c834-4d41-b224-04c2aeb2ffb0",
   "metadata": {},
   "source": [
    "# Make a fake data frame"
   ]
  },
  {
   "cell_type": "code",
   "execution_count": 93,
   "id": "06fe3eeb-7540-4a58-8586-8e102534e48c",
   "metadata": {},
   "outputs": [],
   "source": [
    "df = pd.DataFrame(\n",
    "    {\n",
    "    \"people\" : [fake.name() for _ in range(1000)],\n",
    "    }\n",
    ")"
   ]
  },
  {
   "cell_type": "code",
   "execution_count": 94,
   "id": "20893d44-4f08-41b2-a4a3-49dc5426fbe8",
   "metadata": {},
   "outputs": [
    {
     "data": {
      "text/html": [
       "<div>\n",
       "<style scoped>\n",
       "    .dataframe tbody tr th:only-of-type {\n",
       "        vertical-align: middle;\n",
       "    }\n",
       "\n",
       "    .dataframe tbody tr th {\n",
       "        vertical-align: top;\n",
       "    }\n",
       "\n",
       "    .dataframe thead th {\n",
       "        text-align: right;\n",
       "    }\n",
       "</style>\n",
       "<table border=\"1\" class=\"dataframe\">\n",
       "  <thead>\n",
       "    <tr style=\"text-align: right;\">\n",
       "      <th></th>\n",
       "      <th>people</th>\n",
       "    </tr>\n",
       "  </thead>\n",
       "  <tbody>\n",
       "    <tr>\n",
       "      <th>0</th>\n",
       "      <td>Laura Acosta</td>\n",
       "    </tr>\n",
       "    <tr>\n",
       "      <th>1</th>\n",
       "      <td>پرهام وثاق</td>\n",
       "    </tr>\n",
       "    <tr>\n",
       "      <th>2</th>\n",
       "      <td>حنانه بهمنی</td>\n",
       "    </tr>\n",
       "    <tr>\n",
       "      <th>3</th>\n",
       "      <td>Mariah Marks</td>\n",
       "    </tr>\n",
       "    <tr>\n",
       "      <th>4</th>\n",
       "      <td>Michael Farrell</td>\n",
       "    </tr>\n",
       "    <tr>\n",
       "      <th>...</th>\n",
       "      <td>...</td>\n",
       "    </tr>\n",
       "    <tr>\n",
       "      <th>995</th>\n",
       "      <td>John Waller</td>\n",
       "    </tr>\n",
       "    <tr>\n",
       "      <th>996</th>\n",
       "      <td>سجاد هاشمی</td>\n",
       "    </tr>\n",
       "    <tr>\n",
       "      <th>997</th>\n",
       "      <td>رقیه شادروان</td>\n",
       "    </tr>\n",
       "    <tr>\n",
       "      <th>998</th>\n",
       "      <td>Lauren Garcia</td>\n",
       "    </tr>\n",
       "    <tr>\n",
       "      <th>999</th>\n",
       "      <td>جناب آقای دکتر اميرمحمد کمالی</td>\n",
       "    </tr>\n",
       "  </tbody>\n",
       "</table>\n",
       "<p>1000 rows × 1 columns</p>\n",
       "</div>"
      ],
      "text/plain": [
       "                            people\n",
       "0                     Laura Acosta\n",
       "1                       پرهام وثاق\n",
       "2                      حنانه بهمنی\n",
       "3                     Mariah Marks\n",
       "4                  Michael Farrell\n",
       "..                             ...\n",
       "995                    John Waller\n",
       "996                     سجاد هاشمی\n",
       "997                   رقیه شادروان\n",
       "998                  Lauren Garcia\n",
       "999  جناب آقای دکتر اميرمحمد کمالی\n",
       "\n",
       "[1000 rows x 1 columns]"
      ]
     },
     "execution_count": 94,
     "metadata": {},
     "output_type": "execute_result"
    }
   ],
   "source": [
    "df"
   ]
  },
  {
   "cell_type": "markdown",
   "id": "f711c221-9f9d-4d81-bd21-e201d5fad585",
   "metadata": {},
   "source": [
    "## split full_name to first_name and last_name"
   ]
  },
  {
   "cell_type": "code",
   "execution_count": 95,
   "id": "d747136b-c22c-48ca-92e6-ea23d0ed20c0",
   "metadata": {},
   "outputs": [],
   "source": [
    "def extract_name_parts(full_name):\n",
    "    # Use regular expression to find titles and suffixes\n",
    "    title_suffix_pattern = r'\\b(?:Mr\\.|Mrs\\.|Ms\\.|Dr\\.|DVM|MD|جناب|آقای|دکتر|خانم|سرکار)\\s?\\b'\n",
    "\n",
    "    # Remove titles and suffixes from the full name\n",
    "    name_without_title_suffix = re.sub(title_suffix_pattern, '', full_name, flags=re.IGNORECASE)\n",
    "\n",
    "    # Split the name into words\n",
    "    words = name_without_title_suffix.split()\n",
    "\n",
    "    # First name is the combination of all words except the last one\n",
    "    first_name = ' '.join(words[:-1])\n",
    "\n",
    "    # Last name is the last word\n",
    "    last_name = words[-1]\n",
    "\n",
    "    return first_name, last_name"
   ]
  },
  {
   "cell_type": "markdown",
   "id": "54a32850-ac50-424e-bb71-8e0e04d328a5",
   "metadata": {},
   "source": [
    "### Add first name and last name column to data frame"
   ]
  },
  {
   "cell_type": "code",
   "execution_count": 96,
   "id": "3f4cf32d-2d7d-4b2f-93bc-10b9b9e58961",
   "metadata": {},
   "outputs": [
    {
     "data": {
      "text/html": [
       "<div>\n",
       "<style scoped>\n",
       "    .dataframe tbody tr th:only-of-type {\n",
       "        vertical-align: middle;\n",
       "    }\n",
       "\n",
       "    .dataframe tbody tr th {\n",
       "        vertical-align: top;\n",
       "    }\n",
       "\n",
       "    .dataframe thead th {\n",
       "        text-align: right;\n",
       "    }\n",
       "</style>\n",
       "<table border=\"1\" class=\"dataframe\">\n",
       "  <thead>\n",
       "    <tr style=\"text-align: right;\">\n",
       "      <th></th>\n",
       "      <th>people</th>\n",
       "      <th>first name</th>\n",
       "      <th>last name</th>\n",
       "    </tr>\n",
       "  </thead>\n",
       "  <tbody>\n",
       "    <tr>\n",
       "      <th>0</th>\n",
       "      <td>Laura Acosta</td>\n",
       "      <td>Laura</td>\n",
       "      <td>Acosta</td>\n",
       "    </tr>\n",
       "    <tr>\n",
       "      <th>1</th>\n",
       "      <td>پرهام وثاق</td>\n",
       "      <td>پرهام</td>\n",
       "      <td>وثاق</td>\n",
       "    </tr>\n",
       "    <tr>\n",
       "      <th>2</th>\n",
       "      <td>حنانه بهمنی</td>\n",
       "      <td>حنانه</td>\n",
       "      <td>بهمنی</td>\n",
       "    </tr>\n",
       "    <tr>\n",
       "      <th>3</th>\n",
       "      <td>Mariah Marks</td>\n",
       "      <td>Mariah</td>\n",
       "      <td>Marks</td>\n",
       "    </tr>\n",
       "    <tr>\n",
       "      <th>4</th>\n",
       "      <td>Michael Farrell</td>\n",
       "      <td>Michael</td>\n",
       "      <td>Farrell</td>\n",
       "    </tr>\n",
       "    <tr>\n",
       "      <th>...</th>\n",
       "      <td>...</td>\n",
       "      <td>...</td>\n",
       "      <td>...</td>\n",
       "    </tr>\n",
       "    <tr>\n",
       "      <th>995</th>\n",
       "      <td>John Waller</td>\n",
       "      <td>John</td>\n",
       "      <td>Waller</td>\n",
       "    </tr>\n",
       "    <tr>\n",
       "      <th>996</th>\n",
       "      <td>سجاد هاشمی</td>\n",
       "      <td>سجاد</td>\n",
       "      <td>هاشمی</td>\n",
       "    </tr>\n",
       "    <tr>\n",
       "      <th>997</th>\n",
       "      <td>رقیه شادروان</td>\n",
       "      <td>رقیه</td>\n",
       "      <td>شادروان</td>\n",
       "    </tr>\n",
       "    <tr>\n",
       "      <th>998</th>\n",
       "      <td>Lauren Garcia</td>\n",
       "      <td>Lauren</td>\n",
       "      <td>Garcia</td>\n",
       "    </tr>\n",
       "    <tr>\n",
       "      <th>999</th>\n",
       "      <td>جناب آقای دکتر اميرمحمد کمالی</td>\n",
       "      <td>اميرمحمد</td>\n",
       "      <td>کمالی</td>\n",
       "    </tr>\n",
       "  </tbody>\n",
       "</table>\n",
       "<p>1000 rows × 3 columns</p>\n",
       "</div>"
      ],
      "text/plain": [
       "                            people first name last name\n",
       "0                     Laura Acosta      Laura    Acosta\n",
       "1                       پرهام وثاق      پرهام      وثاق\n",
       "2                      حنانه بهمنی      حنانه     بهمنی\n",
       "3                     Mariah Marks     Mariah     Marks\n",
       "4                  Michael Farrell    Michael   Farrell\n",
       "..                             ...        ...       ...\n",
       "995                    John Waller       John    Waller\n",
       "996                     سجاد هاشمی       سجاد     هاشمی\n",
       "997                   رقیه شادروان       رقیه   شادروان\n",
       "998                  Lauren Garcia     Lauren    Garcia\n",
       "999  جناب آقای دکتر اميرمحمد کمالی   اميرمحمد     کمالی\n",
       "\n",
       "[1000 rows x 3 columns]"
      ]
     },
     "execution_count": 96,
     "metadata": {},
     "output_type": "execute_result"
    }
   ],
   "source": [
    "df['first name'] = df['people'].apply(lambda fn : extract_name_parts(fn)[0])\n",
    "df['last name'] = df['people'].apply(lambda ln : extract_name_parts(ln)[1])\n",
    "df"
   ]
  },
  {
   "cell_type": "markdown",
   "id": "4e713ab5-48e9-4666-b1a8-1a17ca15a05b",
   "metadata": {},
   "source": [
    "## finding gender method"
   ]
  },
  {
   "cell_type": "code",
   "execution_count": 97,
   "id": "e66267dc-7dfa-4e10-a742-199bec7516b8",
   "metadata": {},
   "outputs": [],
   "source": [
    "def name_to_gender(first_name):\n",
    "    info = nd.search(first_name)['first_name']\n",
    "    if info is None:\n",
    "        return\n",
    "    return max(info['gender'], key=info['gender'].get)"
   ]
  },
  {
   "cell_type": "code",
   "execution_count": 98,
   "id": "ca2a4381-9635-4852-a5b4-e8a4e9eb2fa9",
   "metadata": {},
   "outputs": [],
   "source": [
    "def name_to_gender_probability(first_name):\n",
    "    info = nd.search(first_name)['first_name']\n",
    "    if info is None:\n",
    "        return\n",
    "    return info['gender'][max(info['gender'], key=info['gender'].get)]"
   ]
  },
  {
   "cell_type": "markdown",
   "id": "0c92b381-7c3c-4ef0-93b0-c529ba14043c",
   "metadata": {},
   "source": [
    "### add gender column to data frame"
   ]
  },
  {
   "cell_type": "code",
   "execution_count": 99,
   "id": "e8ba1314-5268-4ee2-845a-c30c7e198127",
   "metadata": {},
   "outputs": [],
   "source": [
    "df['gender'] = df['first name'].apply(lambda name : name_to_gender(name))"
   ]
  },
  {
   "cell_type": "code",
   "execution_count": 100,
   "id": "d53a402a-fd86-4e63-bd4f-2a181a9584d4",
   "metadata": {},
   "outputs": [],
   "source": [
    "df['gender probablity'] = df['first name'].apply(lambda name : name_to_gender_probability(name))"
   ]
  },
  {
   "cell_type": "code",
   "execution_count": 101,
   "id": "450a663c-d9ae-49f0-9c95-0a22dafe4ec5",
   "metadata": {},
   "outputs": [
    {
     "data": {
      "text/html": [
       "<div>\n",
       "<style scoped>\n",
       "    .dataframe tbody tr th:only-of-type {\n",
       "        vertical-align: middle;\n",
       "    }\n",
       "\n",
       "    .dataframe tbody tr th {\n",
       "        vertical-align: top;\n",
       "    }\n",
       "\n",
       "    .dataframe thead th {\n",
       "        text-align: right;\n",
       "    }\n",
       "</style>\n",
       "<table border=\"1\" class=\"dataframe\">\n",
       "  <thead>\n",
       "    <tr style=\"text-align: right;\">\n",
       "      <th></th>\n",
       "      <th>people</th>\n",
       "      <th>first name</th>\n",
       "      <th>last name</th>\n",
       "      <th>gender</th>\n",
       "      <th>gender probablity</th>\n",
       "    </tr>\n",
       "  </thead>\n",
       "  <tbody>\n",
       "    <tr>\n",
       "      <th>0</th>\n",
       "      <td>Laura Acosta</td>\n",
       "      <td>Laura</td>\n",
       "      <td>Acosta</td>\n",
       "      <td>Female</td>\n",
       "      <td>0.993</td>\n",
       "    </tr>\n",
       "    <tr>\n",
       "      <th>1</th>\n",
       "      <td>پرهام وثاق</td>\n",
       "      <td>پرهام</td>\n",
       "      <td>وثاق</td>\n",
       "      <td>Male</td>\n",
       "      <td>0.940</td>\n",
       "    </tr>\n",
       "    <tr>\n",
       "      <th>2</th>\n",
       "      <td>حنانه بهمنی</td>\n",
       "      <td>حنانه</td>\n",
       "      <td>بهمنی</td>\n",
       "      <td>Female</td>\n",
       "      <td>0.825</td>\n",
       "    </tr>\n",
       "    <tr>\n",
       "      <th>3</th>\n",
       "      <td>Mariah Marks</td>\n",
       "      <td>Mariah</td>\n",
       "      <td>Marks</td>\n",
       "      <td>Female</td>\n",
       "      <td>0.986</td>\n",
       "    </tr>\n",
       "    <tr>\n",
       "      <th>4</th>\n",
       "      <td>Michael Farrell</td>\n",
       "      <td>Michael</td>\n",
       "      <td>Farrell</td>\n",
       "      <td>Male</td>\n",
       "      <td>0.992</td>\n",
       "    </tr>\n",
       "    <tr>\n",
       "      <th>...</th>\n",
       "      <td>...</td>\n",
       "      <td>...</td>\n",
       "      <td>...</td>\n",
       "      <td>...</td>\n",
       "      <td>...</td>\n",
       "    </tr>\n",
       "    <tr>\n",
       "      <th>995</th>\n",
       "      <td>John Waller</td>\n",
       "      <td>John</td>\n",
       "      <td>Waller</td>\n",
       "      <td>Male</td>\n",
       "      <td>0.981</td>\n",
       "    </tr>\n",
       "    <tr>\n",
       "      <th>996</th>\n",
       "      <td>سجاد هاشمی</td>\n",
       "      <td>سجاد</td>\n",
       "      <td>هاشمی</td>\n",
       "      <td>Male</td>\n",
       "      <td>0.968</td>\n",
       "    </tr>\n",
       "    <tr>\n",
       "      <th>997</th>\n",
       "      <td>رقیه شادروان</td>\n",
       "      <td>رقیه</td>\n",
       "      <td>شادروان</td>\n",
       "      <td>Female</td>\n",
       "      <td>0.946</td>\n",
       "    </tr>\n",
       "    <tr>\n",
       "      <th>998</th>\n",
       "      <td>Lauren Garcia</td>\n",
       "      <td>Lauren</td>\n",
       "      <td>Garcia</td>\n",
       "      <td>Female</td>\n",
       "      <td>0.985</td>\n",
       "    </tr>\n",
       "    <tr>\n",
       "      <th>999</th>\n",
       "      <td>جناب آقای دکتر اميرمحمد کمالی</td>\n",
       "      <td>اميرمحمد</td>\n",
       "      <td>کمالی</td>\n",
       "      <td>Male</td>\n",
       "      <td>0.953</td>\n",
       "    </tr>\n",
       "  </tbody>\n",
       "</table>\n",
       "<p>1000 rows × 5 columns</p>\n",
       "</div>"
      ],
      "text/plain": [
       "                            people first name last name  gender  \\\n",
       "0                     Laura Acosta      Laura    Acosta  Female   \n",
       "1                       پرهام وثاق      پرهام      وثاق    Male   \n",
       "2                      حنانه بهمنی      حنانه     بهمنی  Female   \n",
       "3                     Mariah Marks     Mariah     Marks  Female   \n",
       "4                  Michael Farrell    Michael   Farrell    Male   \n",
       "..                             ...        ...       ...     ...   \n",
       "995                    John Waller       John    Waller    Male   \n",
       "996                     سجاد هاشمی       سجاد     هاشمی    Male   \n",
       "997                   رقیه شادروان       رقیه   شادروان  Female   \n",
       "998                  Lauren Garcia     Lauren    Garcia  Female   \n",
       "999  جناب آقای دکتر اميرمحمد کمالی   اميرمحمد     کمالی    Male   \n",
       "\n",
       "     gender probablity  \n",
       "0                0.993  \n",
       "1                0.940  \n",
       "2                0.825  \n",
       "3                0.986  \n",
       "4                0.992  \n",
       "..                 ...  \n",
       "995              0.981  \n",
       "996              0.968  \n",
       "997              0.946  \n",
       "998              0.985  \n",
       "999              0.953  \n",
       "\n",
       "[1000 rows x 5 columns]"
      ]
     },
     "execution_count": 101,
     "metadata": {},
     "output_type": "execute_result"
    }
   ],
   "source": [
    "df"
   ]
  },
  {
   "cell_type": "markdown",
   "id": "13872205-0397-445f-b829-c934ab39802e",
   "metadata": {},
   "source": [
    "## finding country method"
   ]
  },
  {
   "cell_type": "code",
   "execution_count": 102,
   "id": "503aeb20-1492-49e6-aa30-48756480883e",
   "metadata": {},
   "outputs": [],
   "source": [
    "def name_to_country(first_name):\n",
    "    info = nd.search(first_name)['first_name']\n",
    "    if info is None:\n",
    "        return\n",
    "    return max(info['country'], key=info['country'].get)"
   ]
  },
  {
   "cell_type": "code",
   "execution_count": 103,
   "id": "49c7c7f2-c869-4263-ab51-b5b6f61032e8",
   "metadata": {},
   "outputs": [],
   "source": [
    "def name_to_country_probability(first_name):\n",
    "    info = nd.search(first_name)['first_name']\n",
    "    if info is None:\n",
    "        return\n",
    "    return info['country'][max(info['country'], key=info['country'].get)]"
   ]
  },
  {
   "cell_type": "markdown",
   "id": "ccb19b90-4f6c-42c4-a813-e71a4048b4f5",
   "metadata": {},
   "source": [
    "### add country column to data frame"
   ]
  },
  {
   "cell_type": "code",
   "execution_count": 104,
   "id": "0c5a270a-8704-4214-83d0-5ef642e295f4",
   "metadata": {},
   "outputs": [],
   "source": [
    "df['country'] = df['first name'].apply(lambda name : name_to_country(name))"
   ]
  },
  {
   "cell_type": "code",
   "execution_count": 105,
   "id": "99ece579-45de-4e42-9381-5229d4f5b4e7",
   "metadata": {},
   "outputs": [],
   "source": [
    "df['country probablity'] = df['first name'].apply(lambda name : name_to_country_probability(name))"
   ]
  },
  {
   "cell_type": "code",
   "execution_count": 106,
   "id": "f8e00d06-7091-4060-b9d3-8c2fc941211f",
   "metadata": {},
   "outputs": [
    {
     "data": {
      "text/html": [
       "<div>\n",
       "<style scoped>\n",
       "    .dataframe tbody tr th:only-of-type {\n",
       "        vertical-align: middle;\n",
       "    }\n",
       "\n",
       "    .dataframe tbody tr th {\n",
       "        vertical-align: top;\n",
       "    }\n",
       "\n",
       "    .dataframe thead th {\n",
       "        text-align: right;\n",
       "    }\n",
       "</style>\n",
       "<table border=\"1\" class=\"dataframe\">\n",
       "  <thead>\n",
       "    <tr style=\"text-align: right;\">\n",
       "      <th></th>\n",
       "      <th>people</th>\n",
       "      <th>first name</th>\n",
       "      <th>last name</th>\n",
       "      <th>gender</th>\n",
       "      <th>gender probablity</th>\n",
       "      <th>country</th>\n",
       "      <th>country probablity</th>\n",
       "    </tr>\n",
       "  </thead>\n",
       "  <tbody>\n",
       "    <tr>\n",
       "      <th>0</th>\n",
       "      <td>Laura Acosta</td>\n",
       "      <td>Laura</td>\n",
       "      <td>Acosta</td>\n",
       "      <td>Female</td>\n",
       "      <td>0.993</td>\n",
       "      <td>Italy</td>\n",
       "      <td>0.317</td>\n",
       "    </tr>\n",
       "    <tr>\n",
       "      <th>1</th>\n",
       "      <td>پرهام وثاق</td>\n",
       "      <td>پرهام</td>\n",
       "      <td>وثاق</td>\n",
       "      <td>Male</td>\n",
       "      <td>0.940</td>\n",
       "      <td>Iran, Islamic Republic of</td>\n",
       "      <td>0.953</td>\n",
       "    </tr>\n",
       "    <tr>\n",
       "      <th>2</th>\n",
       "      <td>حنانه بهمنی</td>\n",
       "      <td>حنانه</td>\n",
       "      <td>بهمنی</td>\n",
       "      <td>Female</td>\n",
       "      <td>0.825</td>\n",
       "      <td>Sudan</td>\n",
       "      <td>0.267</td>\n",
       "    </tr>\n",
       "    <tr>\n",
       "      <th>3</th>\n",
       "      <td>Mariah Marks</td>\n",
       "      <td>Mariah</td>\n",
       "      <td>Marks</td>\n",
       "      <td>Female</td>\n",
       "      <td>0.986</td>\n",
       "      <td>United States</td>\n",
       "      <td>0.651</td>\n",
       "    </tr>\n",
       "    <tr>\n",
       "      <th>4</th>\n",
       "      <td>Michael Farrell</td>\n",
       "      <td>Michael</td>\n",
       "      <td>Farrell</td>\n",
       "      <td>Male</td>\n",
       "      <td>0.992</td>\n",
       "      <td>United States</td>\n",
       "      <td>0.407</td>\n",
       "    </tr>\n",
       "    <tr>\n",
       "      <th>...</th>\n",
       "      <td>...</td>\n",
       "      <td>...</td>\n",
       "      <td>...</td>\n",
       "      <td>...</td>\n",
       "      <td>...</td>\n",
       "      <td>...</td>\n",
       "      <td>...</td>\n",
       "    </tr>\n",
       "    <tr>\n",
       "      <th>995</th>\n",
       "      <td>John Waller</td>\n",
       "      <td>John</td>\n",
       "      <td>Waller</td>\n",
       "      <td>Male</td>\n",
       "      <td>0.981</td>\n",
       "      <td>United States</td>\n",
       "      <td>0.393</td>\n",
       "    </tr>\n",
       "    <tr>\n",
       "      <th>996</th>\n",
       "      <td>سجاد هاشمی</td>\n",
       "      <td>سجاد</td>\n",
       "      <td>هاشمی</td>\n",
       "      <td>Male</td>\n",
       "      <td>0.968</td>\n",
       "      <td>Iraq</td>\n",
       "      <td>0.965</td>\n",
       "    </tr>\n",
       "    <tr>\n",
       "      <th>997</th>\n",
       "      <td>رقیه شادروان</td>\n",
       "      <td>رقیه</td>\n",
       "      <td>شادروان</td>\n",
       "      <td>Female</td>\n",
       "      <td>0.946</td>\n",
       "      <td>Iran, Islamic Republic of</td>\n",
       "      <td>0.638</td>\n",
       "    </tr>\n",
       "    <tr>\n",
       "      <th>998</th>\n",
       "      <td>Lauren Garcia</td>\n",
       "      <td>Lauren</td>\n",
       "      <td>Garcia</td>\n",
       "      <td>Female</td>\n",
       "      <td>0.985</td>\n",
       "      <td>United States</td>\n",
       "      <td>0.468</td>\n",
       "    </tr>\n",
       "    <tr>\n",
       "      <th>999</th>\n",
       "      <td>جناب آقای دکتر اميرمحمد کمالی</td>\n",
       "      <td>اميرمحمد</td>\n",
       "      <td>کمالی</td>\n",
       "      <td>Male</td>\n",
       "      <td>0.953</td>\n",
       "      <td>Sudan</td>\n",
       "      <td>0.311</td>\n",
       "    </tr>\n",
       "  </tbody>\n",
       "</table>\n",
       "<p>1000 rows × 7 columns</p>\n",
       "</div>"
      ],
      "text/plain": [
       "                            people first name last name  gender  \\\n",
       "0                     Laura Acosta      Laura    Acosta  Female   \n",
       "1                       پرهام وثاق      پرهام      وثاق    Male   \n",
       "2                      حنانه بهمنی      حنانه     بهمنی  Female   \n",
       "3                     Mariah Marks     Mariah     Marks  Female   \n",
       "4                  Michael Farrell    Michael   Farrell    Male   \n",
       "..                             ...        ...       ...     ...   \n",
       "995                    John Waller       John    Waller    Male   \n",
       "996                     سجاد هاشمی       سجاد     هاشمی    Male   \n",
       "997                   رقیه شادروان       رقیه   شادروان  Female   \n",
       "998                  Lauren Garcia     Lauren    Garcia  Female   \n",
       "999  جناب آقای دکتر اميرمحمد کمالی   اميرمحمد     کمالی    Male   \n",
       "\n",
       "     gender probablity                    country  country probablity  \n",
       "0                0.993                      Italy               0.317  \n",
       "1                0.940  Iran, Islamic Republic of               0.953  \n",
       "2                0.825                      Sudan               0.267  \n",
       "3                0.986              United States               0.651  \n",
       "4                0.992              United States               0.407  \n",
       "..                 ...                        ...                 ...  \n",
       "995              0.981              United States               0.393  \n",
       "996              0.968                       Iraq               0.965  \n",
       "997              0.946  Iran, Islamic Republic of               0.638  \n",
       "998              0.985              United States               0.468  \n",
       "999              0.953                      Sudan               0.311  \n",
       "\n",
       "[1000 rows x 7 columns]"
      ]
     },
     "execution_count": 106,
     "metadata": {},
     "output_type": "execute_result"
    }
   ],
   "source": [
    "df"
   ]
  },
  {
   "cell_type": "code",
   "execution_count": 107,
   "id": "7425c396-5342-4a54-a2a1-9946b1052016",
   "metadata": {},
   "outputs": [],
   "source": [
    "df['gender'] = df['gender'].replace({'Male': 0, 'Female': 1})"
   ]
  },
  {
   "cell_type": "code",
   "execution_count": 108,
   "id": "b2cfc5e2-c664-40e0-8cec-250dbd582a9e",
   "metadata": {},
   "outputs": [
    {
     "data": {
      "text/html": [
       "<div>\n",
       "<style scoped>\n",
       "    .dataframe tbody tr th:only-of-type {\n",
       "        vertical-align: middle;\n",
       "    }\n",
       "\n",
       "    .dataframe tbody tr th {\n",
       "        vertical-align: top;\n",
       "    }\n",
       "\n",
       "    .dataframe thead th {\n",
       "        text-align: right;\n",
       "    }\n",
       "</style>\n",
       "<table border=\"1\" class=\"dataframe\">\n",
       "  <thead>\n",
       "    <tr style=\"text-align: right;\">\n",
       "      <th></th>\n",
       "      <th>people</th>\n",
       "      <th>first name</th>\n",
       "      <th>last name</th>\n",
       "      <th>gender</th>\n",
       "      <th>gender probablity</th>\n",
       "      <th>country</th>\n",
       "      <th>country probablity</th>\n",
       "    </tr>\n",
       "  </thead>\n",
       "  <tbody>\n",
       "    <tr>\n",
       "      <th>0</th>\n",
       "      <td>Laura Acosta</td>\n",
       "      <td>Laura</td>\n",
       "      <td>Acosta</td>\n",
       "      <td>1.0</td>\n",
       "      <td>0.993</td>\n",
       "      <td>Italy</td>\n",
       "      <td>0.317</td>\n",
       "    </tr>\n",
       "    <tr>\n",
       "      <th>1</th>\n",
       "      <td>پرهام وثاق</td>\n",
       "      <td>پرهام</td>\n",
       "      <td>وثاق</td>\n",
       "      <td>0.0</td>\n",
       "      <td>0.940</td>\n",
       "      <td>Iran, Islamic Republic of</td>\n",
       "      <td>0.953</td>\n",
       "    </tr>\n",
       "    <tr>\n",
       "      <th>2</th>\n",
       "      <td>حنانه بهمنی</td>\n",
       "      <td>حنانه</td>\n",
       "      <td>بهمنی</td>\n",
       "      <td>1.0</td>\n",
       "      <td>0.825</td>\n",
       "      <td>Sudan</td>\n",
       "      <td>0.267</td>\n",
       "    </tr>\n",
       "    <tr>\n",
       "      <th>3</th>\n",
       "      <td>Mariah Marks</td>\n",
       "      <td>Mariah</td>\n",
       "      <td>Marks</td>\n",
       "      <td>1.0</td>\n",
       "      <td>0.986</td>\n",
       "      <td>United States</td>\n",
       "      <td>0.651</td>\n",
       "    </tr>\n",
       "    <tr>\n",
       "      <th>4</th>\n",
       "      <td>Michael Farrell</td>\n",
       "      <td>Michael</td>\n",
       "      <td>Farrell</td>\n",
       "      <td>0.0</td>\n",
       "      <td>0.992</td>\n",
       "      <td>United States</td>\n",
       "      <td>0.407</td>\n",
       "    </tr>\n",
       "    <tr>\n",
       "      <th>...</th>\n",
       "      <td>...</td>\n",
       "      <td>...</td>\n",
       "      <td>...</td>\n",
       "      <td>...</td>\n",
       "      <td>...</td>\n",
       "      <td>...</td>\n",
       "      <td>...</td>\n",
       "    </tr>\n",
       "    <tr>\n",
       "      <th>995</th>\n",
       "      <td>John Waller</td>\n",
       "      <td>John</td>\n",
       "      <td>Waller</td>\n",
       "      <td>0.0</td>\n",
       "      <td>0.981</td>\n",
       "      <td>United States</td>\n",
       "      <td>0.393</td>\n",
       "    </tr>\n",
       "    <tr>\n",
       "      <th>996</th>\n",
       "      <td>سجاد هاشمی</td>\n",
       "      <td>سجاد</td>\n",
       "      <td>هاشمی</td>\n",
       "      <td>0.0</td>\n",
       "      <td>0.968</td>\n",
       "      <td>Iraq</td>\n",
       "      <td>0.965</td>\n",
       "    </tr>\n",
       "    <tr>\n",
       "      <th>997</th>\n",
       "      <td>رقیه شادروان</td>\n",
       "      <td>رقیه</td>\n",
       "      <td>شادروان</td>\n",
       "      <td>1.0</td>\n",
       "      <td>0.946</td>\n",
       "      <td>Iran, Islamic Republic of</td>\n",
       "      <td>0.638</td>\n",
       "    </tr>\n",
       "    <tr>\n",
       "      <th>998</th>\n",
       "      <td>Lauren Garcia</td>\n",
       "      <td>Lauren</td>\n",
       "      <td>Garcia</td>\n",
       "      <td>1.0</td>\n",
       "      <td>0.985</td>\n",
       "      <td>United States</td>\n",
       "      <td>0.468</td>\n",
       "    </tr>\n",
       "    <tr>\n",
       "      <th>999</th>\n",
       "      <td>جناب آقای دکتر اميرمحمد کمالی</td>\n",
       "      <td>اميرمحمد</td>\n",
       "      <td>کمالی</td>\n",
       "      <td>0.0</td>\n",
       "      <td>0.953</td>\n",
       "      <td>Sudan</td>\n",
       "      <td>0.311</td>\n",
       "    </tr>\n",
       "  </tbody>\n",
       "</table>\n",
       "<p>1000 rows × 7 columns</p>\n",
       "</div>"
      ],
      "text/plain": [
       "                            people first name last name  gender  \\\n",
       "0                     Laura Acosta      Laura    Acosta     1.0   \n",
       "1                       پرهام وثاق      پرهام      وثاق     0.0   \n",
       "2                      حنانه بهمنی      حنانه     بهمنی     1.0   \n",
       "3                     Mariah Marks     Mariah     Marks     1.0   \n",
       "4                  Michael Farrell    Michael   Farrell     0.0   \n",
       "..                             ...        ...       ...     ...   \n",
       "995                    John Waller       John    Waller     0.0   \n",
       "996                     سجاد هاشمی       سجاد     هاشمی     0.0   \n",
       "997                   رقیه شادروان       رقیه   شادروان     1.0   \n",
       "998                  Lauren Garcia     Lauren    Garcia     1.0   \n",
       "999  جناب آقای دکتر اميرمحمد کمالی   اميرمحمد     کمالی     0.0   \n",
       "\n",
       "     gender probablity                    country  country probablity  \n",
       "0                0.993                      Italy               0.317  \n",
       "1                0.940  Iran, Islamic Republic of               0.953  \n",
       "2                0.825                      Sudan               0.267  \n",
       "3                0.986              United States               0.651  \n",
       "4                0.992              United States               0.407  \n",
       "..                 ...                        ...                 ...  \n",
       "995              0.981              United States               0.393  \n",
       "996              0.968                       Iraq               0.965  \n",
       "997              0.946  Iran, Islamic Republic of               0.638  \n",
       "998              0.985              United States               0.468  \n",
       "999              0.953                      Sudan               0.311  \n",
       "\n",
       "[1000 rows x 7 columns]"
      ]
     },
     "execution_count": 108,
     "metadata": {},
     "output_type": "execute_result"
    }
   ],
   "source": [
    "df"
   ]
  },
  {
   "cell_type": "code",
   "execution_count": 109,
   "id": "8c1a64a6-43e6-4312-a898-937043081130",
   "metadata": {
    "tags": []
   },
   "outputs": [],
   "source": [
    "top5 = df['country'].value_counts().head(5)\n",
    "other_count = df['country'].nunique() - top5.shape[0]\n",
    "other = pd.Series({'Other': other_count})"
   ]
  },
  {
   "cell_type": "code",
   "execution_count": 110,
   "id": "d5c3aee9-5743-415e-9161-c68054c8f995",
   "metadata": {
    "tags": []
   },
   "outputs": [],
   "source": [
    "combined_categories = pd.concat([top5, other])"
   ]
  },
  {
   "cell_type": "code",
   "execution_count": 111,
   "id": "92d5789d-c1a6-4f97-8ec0-9afa4607cf3c",
   "metadata": {
    "tags": []
   },
   "outputs": [
    {
     "data": {
      "image/png": "[encoded data removed]",
      "text/plain": [
       "<Figure size 640x480 with 1 Axes>"
      ]
     },
     "metadata": {},
     "output_type": "display_data"
    }
   ],
   "source": [
    "plt.pie(combined_categories, labels=combined_categories.index, autopct='%1.1f%%', startangle=0)\n",
    "plt.title('Top 5 country')\n",
    "plt.show()"
   ]
  },
  {
   "cell_type": "markdown",
   "id": "d6e6fb15-c1e6-4b2c-abcb-3d0dc7cdb399",
   "metadata": {},
   "source": [
    "\n",
    "\n",
    "\n",
    "\n",
    "\n",
    "\n",
    "\n",
    "\n",
    "\n",
    "\n"
   ]
  },
  {
   "cell_type": "markdown",
   "id": "ad232b77-d6a3-4387-a388-e692703ade47",
   "metadata": {},
   "source": [
    "# telegram chat gender finding"
   ]
  },
  {
   "cell_type": "markdown",
   "id": "7e1b30a6-7640-4f32-83ed-2c11ddaea399",
   "metadata": {},
   "source": [
    "export telegram chat group in windows version and load it"
   ]
  },
  {
   "cell_type": "code",
   "execution_count": 116,
   "id": "ddf10a5d-431c-4a4c-9835-f5f6a9abe806",
   "metadata": {
    "tags": []
   },
   "outputs": [],
   "source": [
    "with open('result.json') as f:\n",
    "    data = json.load(f)"
   ]
  },
  {
   "cell_type": "markdown",
   "id": "6c95166e-7334-43fa-8db9-2ababa2ac213",
   "metadata": {},
   "source": [
    "Get the names of individuals who have sent at least one message in the group:"
   ]
  },
  {
   "cell_type": "code",
   "execution_count": 140,
   "id": "5f2dc62c-e8c0-46f0-9673-4482528411ef",
   "metadata": {
    "tags": []
   },
   "outputs": [],
   "source": [
    "names = []\n",
    "id_set = set()\n",
    "for msg in data['messages']:\n",
    "    if not msg.get('from'):\n",
    "        continue\n",
    "    if msg['from_id'] in id_set:\n",
    "        continue\n",
    "    id_set.add(msg['from_id'])\n",
    "    names.append(msg['from'])"
   ]
  },
  {
   "cell_type": "markdown",
   "id": "ec4f7cd9-9f59-4eb0-8e21-84f7bf329578",
   "metadata": {},
   "source": [
    "get the first_name and filter it:"
   ]
  },
  {
   "cell_type": "code",
   "execution_count": 147,
   "id": "a4f29499-6fed-42a7-bea3-8a565ef338a9",
   "metadata": {
    "tags": []
   },
   "outputs": [],
   "source": [
    "first_names = [n.split()[0] for n in names]\n",
    "first_names = list(filter(lambda fn: len(fn) > 2, first_names))"
   ]
  },
  {
   "cell_type": "markdown",
   "id": "746fc0de-e370-4f18-ad7e-cf00985d6b37",
   "metadata": {},
   "source": [
    "most common names in group:"
   ]
  },
  {
   "cell_type": "code",
   "execution_count": 149,
   "id": "42b4d6df-9e62-4f60-85b7-784fedb365a4",
   "metadata": {
    "tags": []
   },
   "outputs": [
    {
     "data": {
      "text/plain": [
       "[('Ali', 48),\n",
       " ('Mohammad', 37),\n",
       " ('Amir', 26),\n",
       " ('Maryam', 21),\n",
       " ('Zahra', 17),\n",
       " ('Alireza', 14),\n",
       " ('Fateme', 13),\n",
       " ('Reza', 12),\n",
       " ('Sina', 11),\n",
       " ('Erfan', 11)]"
      ]
     },
     "execution_count": 149,
     "metadata": {},
     "output_type": "execute_result"
    }
   ],
   "source": [
    "Counter(first_names).most_common(10)"
   ]
  },
  {
   "cell_type": "markdown",
   "id": "3d1c23ad-90bf-4239-a2f8-a35ebbeec911",
   "metadata": {},
   "source": [
    "make a DataFrame from these names:"
   ]
  },
  {
   "cell_type": "code",
   "execution_count": 151,
   "id": "1eb5328a-3092-4e0e-b196-fd25b7a8851c",
   "metadata": {
    "tags": []
   },
   "outputs": [],
   "source": [
    "df_chat = pd.DataFrame(\n",
    "    {\n",
    "        'names' : first_names\n",
    "    }\n",
    ")"
   ]
  },
  {
   "cell_type": "code",
   "execution_count": 158,
   "id": "987377d6-607b-433b-896b-2d9a3b68ddca",
   "metadata": {
    "tags": []
   },
   "outputs": [],
   "source": [
    "df_chat['gender'] = df_chat['names'].apply(name_to_gender)"
   ]
  },
  {
   "cell_type": "code",
   "execution_count": 159,
   "id": "33df9cfa-aa42-47f0-b3f8-735f550c652f",
   "metadata": {
    "tags": []
   },
   "outputs": [
    {
     "data": {
      "text/html": [
       "<div>\n",
       "<style scoped>\n",
       "    .dataframe tbody tr th:only-of-type {\n",
       "        vertical-align: middle;\n",
       "    }\n",
       "\n",
       "    .dataframe tbody tr th {\n",
       "        vertical-align: top;\n",
       "    }\n",
       "\n",
       "    .dataframe thead th {\n",
       "        text-align: right;\n",
       "    }\n",
       "</style>\n",
       "<table border=\"1\" class=\"dataframe\">\n",
       "  <thead>\n",
       "    <tr style=\"text-align: right;\">\n",
       "      <th></th>\n",
       "      <th>names</th>\n",
       "      <th>gender</th>\n",
       "    </tr>\n",
       "  </thead>\n",
       "  <tbody>\n",
       "    <tr>\n",
       "      <th>0</th>\n",
       "      <td>a.20</td>\n",
       "      <td>None</td>\n",
       "    </tr>\n",
       "    <tr>\n",
       "      <th>1</th>\n",
       "      <td>Sobhan</td>\n",
       "      <td>Male</td>\n",
       "    </tr>\n",
       "    <tr>\n",
       "      <th>2</th>\n",
       "      <td>Good</td>\n",
       "      <td>Male</td>\n",
       "    </tr>\n",
       "    <tr>\n",
       "      <th>3</th>\n",
       "      <td>Sima</td>\n",
       "      <td>Female</td>\n",
       "    </tr>\n",
       "    <tr>\n",
       "      <th>4</th>\n",
       "      <td>hwsyn.si</td>\n",
       "      <td>None</td>\n",
       "    </tr>\n",
       "    <tr>\n",
       "      <th>...</th>\n",
       "      <td>...</td>\n",
       "      <td>...</td>\n",
       "    </tr>\n",
       "    <tr>\n",
       "      <th>1379</th>\n",
       "      <td>Mary</td>\n",
       "      <td>Female</td>\n",
       "    </tr>\n",
       "    <tr>\n",
       "      <th>1380</th>\n",
       "      <td>Saeid</td>\n",
       "      <td>Male</td>\n",
       "    </tr>\n",
       "    <tr>\n",
       "      <th>1381</th>\n",
       "      <td>ᴀᴍɪʀᴀʟɪ</td>\n",
       "      <td>None</td>\n",
       "    </tr>\n",
       "    <tr>\n",
       "      <th>1382</th>\n",
       "      <td>Ali</td>\n",
       "      <td>Male</td>\n",
       "    </tr>\n",
       "    <tr>\n",
       "      <th>1383</th>\n",
       "      <td>Aristocles</td>\n",
       "      <td>None</td>\n",
       "    </tr>\n",
       "  </tbody>\n",
       "</table>\n",
       "<p>1384 rows × 2 columns</p>\n",
       "</div>"
      ],
      "text/plain": [
       "           names  gender\n",
       "0           a.20    None\n",
       "1         Sobhan    Male\n",
       "2           Good    Male\n",
       "3           Sima  Female\n",
       "4       hwsyn.si    None\n",
       "...          ...     ...\n",
       "1379        Mary  Female\n",
       "1380       Saeid    Male\n",
       "1381     ᴀᴍɪʀᴀʟɪ    None\n",
       "1382         Ali    Male\n",
       "1383  Aristocles    None\n",
       "\n",
       "[1384 rows x 2 columns]"
      ]
     },
     "execution_count": 159,
     "metadata": {},
     "output_type": "execute_result"
    }
   ],
   "source": [
    "df_chat"
   ]
  },
  {
   "cell_type": "code",
   "execution_count": 181,
   "id": "c8094bf6-f761-4643-a98e-3c7f25cfa9e7",
   "metadata": {
    "tags": []
   },
   "outputs": [
    {
     "data": {
      "text/plain": [
       "gender\n",
       "Male      651\n",
       "Female    476\n",
       "Name: count, dtype: int64"
      ]
     },
     "execution_count": 181,
     "metadata": {},
     "output_type": "execute_result"
    }
   ],
   "source": [
    "df_chat['gender'].value_counts()"
   ]
  },
  {
   "cell_type": "code",
   "execution_count": 172,
   "id": "d8a6e33b-8048-4acd-b6ec-48a65a25a86f",
   "metadata": {
    "tags": []
   },
   "outputs": [
    {
     "data": {
      "text/plain": [
       "257"
      ]
     },
     "execution_count": 172,
     "metadata": {},
     "output_type": "execute_result"
    }
   ],
   "source": [
    "non_count = df_chat['gender'].isna().sum()\n",
    "non_count"
   ]
  },
  {
   "cell_type": "code",
   "execution_count": 173,
   "id": "dcf70676-7772-4637-9cbf-d11ee1451e0f",
   "metadata": {
    "tags": []
   },
   "outputs": [
    {
     "data": {
      "image/png": "[encoded data removed]",
      "text/plain": [
       "<Figure size 640x480 with 1 Axes>"
      ]
     },
     "metadata": {},
     "output_type": "display_data"
    }
   ],
   "source": [
    "genders = ['Male', 'Female', 'Non']\n",
    "counts = [651, 476, non_count]\n",
    "\n",
    "# Create a bar chart\n",
    "plt.bar(genders, counts, color=['blue', 'pink', 'gray'])\n",
    "\n",
    "# Add labels and a title\n",
    "plt.xlabel('Gender')\n",
    "plt.ylabel('Count')\n",
    "plt.title('Gender Distribution')\n",
    "plt.show()"
   ]
  }
 ],
 "metadata": {
  "kernelspec": {
   "display_name": "Python 3 (ipykernel)",
   "language": "python",
   "name": "python3"
  },
  "language_info": {
   "codemirror_mode": {
    "name": "ipython",
    "version": 3
   },
   "file_extension": ".py",
   "mimetype": "text/x-python",
   "name": "python",
   "nbconvert_exporter": "python",
   "pygments_lexer": "ipython3",
   "version": "3.11.4"
  }
 },
 "nbformat": 4,
 "nbformat_minor": 5
}
