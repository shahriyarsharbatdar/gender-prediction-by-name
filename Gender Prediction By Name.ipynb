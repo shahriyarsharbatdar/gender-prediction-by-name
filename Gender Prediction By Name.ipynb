{
 "cells": [
  {
   "cell_type": "markdown",
   "id": "aa5ea3e2-1ab1-4ef5-a0ed-3124daadb1b1",
   "metadata": {},
   "source": [
    "# Gender Prediction By Name"
   ]
  },
  {
   "cell_type": "code",
   "execution_count": null,
   "id": "e488accf-2eb9-47dc-9ef4-2a3e40d85e98",
   "metadata": {},
   "outputs": [],
   "source": [
    "!pip install names-dataset\n",
    "!pip install Faker"
   ]
  },
  {
   "cell_type": "code",
   "execution_count": null,
   "id": "e0c15e8d-0d13-4fee-bfec-84a889130e85",
   "metadata": {
    "tags": []
   },
   "outputs": [],
   "source": [
    "!pip install matplotlib"
   ]
  },
  {
   "cell_type": "code",
   "execution_count": 5,
   "id": "18644b97-0906-48bc-847a-1a457bf2abc8",
   "metadata": {},
   "outputs": [],
   "source": [
    "import numpy as np\n",
    "import pandas as pd\n",
    "import matplotlib.pyplot as plt\n",
    "import seaborn as sns\n",
    "import re\n",
    "import json\n",
    "from collections import Counter"
   ]
  },
  {
   "cell_type": "code",
   "execution_count": 6,
   "id": "d7923269-3e94-4c87-8ea3-4e72fd391a53",
   "metadata": {},
   "outputs": [],
   "source": [
    "from names_dataset import NameDataset\n",
    "from faker import Faker\n",
    "fake = Faker(['en_US','fa'])\n",
    "nd = NameDataset()"
   ]
  },
  {
   "cell_type": "markdown",
   "id": "fd096cb1-c834-4d41-b224-04c2aeb2ffb0",
   "metadata": {},
   "source": [
    "# Make a fake data frame"
   ]
  },
  {
   "cell_type": "code",
   "execution_count": 7,
   "id": "06fe3eeb-7540-4a58-8586-8e102534e48c",
   "metadata": {},
   "outputs": [],
   "source": [
    "df = pd.DataFrame(\n",
    "    {\n",
    "    \"people\" : [fake.name() for _ in range(1000)],\n",
    "    }\n",
    ")"
   ]
  },
  {
   "cell_type": "code",
   "execution_count": 8,
   "id": "20893d44-4f08-41b2-a4a3-49dc5426fbe8",
   "metadata": {},
   "outputs": [
    {
     "data": {
      "text/html": [
       "<div>\n",
       "<style scoped>\n",
       "    .dataframe tbody tr th:only-of-type {\n",
       "        vertical-align: middle;\n",
       "    }\n",
       "\n",
       "    .dataframe tbody tr th {\n",
       "        vertical-align: top;\n",
       "    }\n",
       "\n",
       "    .dataframe thead th {\n",
       "        text-align: right;\n",
       "    }\n",
       "</style>\n",
       "<table border=\"1\" class=\"dataframe\">\n",
       "  <thead>\n",
       "    <tr style=\"text-align: right;\">\n",
       "      <th></th>\n",
       "      <th>people</th>\n",
       "    </tr>\n",
       "  </thead>\n",
       "  <tbody>\n",
       "    <tr>\n",
       "      <th>0</th>\n",
       "      <td>Joshua Reyes</td>\n",
       "    </tr>\n",
       "    <tr>\n",
       "      <th>1</th>\n",
       "      <td>عرفان علی پور</td>\n",
       "    </tr>\n",
       "    <tr>\n",
       "      <th>2</th>\n",
       "      <td>Danny Mcintosh</td>\n",
       "    </tr>\n",
       "    <tr>\n",
       "      <th>3</th>\n",
       "      <td>جناب آقای علیرضا چنگیزی</td>\n",
       "    </tr>\n",
       "    <tr>\n",
       "      <th>4</th>\n",
       "      <td>Eddie Mcdaniel DVM</td>\n",
       "    </tr>\n",
       "    <tr>\n",
       "      <th>...</th>\n",
       "      <td>...</td>\n",
       "    </tr>\n",
       "    <tr>\n",
       "      <th>995</th>\n",
       "      <td>جناب آقای دکتر عرفان تنزیلی</td>\n",
       "    </tr>\n",
       "    <tr>\n",
       "      <th>996</th>\n",
       "      <td>محمد مهدی جعفر پور</td>\n",
       "    </tr>\n",
       "    <tr>\n",
       "      <th>997</th>\n",
       "      <td>یوسف مهدیان</td>\n",
       "    </tr>\n",
       "    <tr>\n",
       "      <th>998</th>\n",
       "      <td>Emily Kennedy</td>\n",
       "    </tr>\n",
       "    <tr>\n",
       "      <th>999</th>\n",
       "      <td>Julia Gentry</td>\n",
       "    </tr>\n",
       "  </tbody>\n",
       "</table>\n",
       "<p>1000 rows × 1 columns</p>\n",
       "</div>"
      ],
      "text/plain": [
       "                          people\n",
       "0                   Joshua Reyes\n",
       "1                  عرفان علی پور\n",
       "2                 Danny Mcintosh\n",
       "3        جناب آقای علیرضا چنگیزی\n",
       "4             Eddie Mcdaniel DVM\n",
       "..                           ...\n",
       "995  جناب آقای دکتر عرفان تنزیلی\n",
       "996           محمد مهدی جعفر پور\n",
       "997                  یوسف مهدیان\n",
       "998                Emily Kennedy\n",
       "999                 Julia Gentry\n",
       "\n",
       "[1000 rows x 1 columns]"
      ]
     },
     "execution_count": 8,
     "metadata": {},
     "output_type": "execute_result"
    }
   ],
   "source": [
    "df"
   ]
  },
  {
   "cell_type": "markdown",
   "id": "f711c221-9f9d-4d81-bd21-e201d5fad585",
   "metadata": {},
   "source": [
    "## split full_name to first_name and last_name"
   ]
  },
  {
   "cell_type": "code",
   "execution_count": 9,
   "id": "d747136b-c22c-48ca-92e6-ea23d0ed20c0",
   "metadata": {},
   "outputs": [],
   "source": [
    "def extract_name_parts(full_name):\n",
    "    # Use regular expression to find titles and suffixes\n",
    "    title_suffix_pattern = r'\\b(?:Mr\\.|Mrs\\.|Ms\\.|Dr\\.|DVM|MD|جناب|آقای|دکتر|خانم|سرکار)\\s?\\b'\n",
    "\n",
    "    # Remove titles and suffixes from the full name\n",
    "    name_without_title_suffix = re.sub(title_suffix_pattern, '', full_name, flags=re.IGNORECASE)\n",
    "\n",
    "    # Split the name into words\n",
    "    words = name_without_title_suffix.split()\n",
    "\n",
    "    # First name is the combination of all words except the last one\n",
    "    first_name = ' '.join(words[:-1])\n",
    "\n",
    "    # Last name is the last word\n",
    "    last_name = words[-1]\n",
    "\n",
    "    return first_name, last_name"
   ]
  },
  {
   "cell_type": "markdown",
   "id": "54a32850-ac50-424e-bb71-8e0e04d328a5",
   "metadata": {},
   "source": [
    "### Add first name and last name column to data frame"
   ]
  },
  {
   "cell_type": "code",
   "execution_count": 10,
   "id": "3f4cf32d-2d7d-4b2f-93bc-10b9b9e58961",
   "metadata": {},
   "outputs": [
    {
     "data": {
      "text/html": [
       "<div>\n",
       "<style scoped>\n",
       "    .dataframe tbody tr th:only-of-type {\n",
       "        vertical-align: middle;\n",
       "    }\n",
       "\n",
       "    .dataframe tbody tr th {\n",
       "        vertical-align: top;\n",
       "    }\n",
       "\n",
       "    .dataframe thead th {\n",
       "        text-align: right;\n",
       "    }\n",
       "</style>\n",
       "<table border=\"1\" class=\"dataframe\">\n",
       "  <thead>\n",
       "    <tr style=\"text-align: right;\">\n",
       "      <th></th>\n",
       "      <th>people</th>\n",
       "      <th>first name</th>\n",
       "      <th>last name</th>\n",
       "    </tr>\n",
       "  </thead>\n",
       "  <tbody>\n",
       "    <tr>\n",
       "      <th>0</th>\n",
       "      <td>Joshua Reyes</td>\n",
       "      <td>Joshua</td>\n",
       "      <td>Reyes</td>\n",
       "    </tr>\n",
       "    <tr>\n",
       "      <th>1</th>\n",
       "      <td>عرفان علی پور</td>\n",
       "      <td>عرفان علی</td>\n",
       "      <td>پور</td>\n",
       "    </tr>\n",
       "    <tr>\n",
       "      <th>2</th>\n",
       "      <td>Danny Mcintosh</td>\n",
       "      <td>Danny</td>\n",
       "      <td>Mcintosh</td>\n",
       "    </tr>\n",
       "    <tr>\n",
       "      <th>3</th>\n",
       "      <td>جناب آقای علیرضا چنگیزی</td>\n",
       "      <td>علیرضا</td>\n",
       "      <td>چنگیزی</td>\n",
       "    </tr>\n",
       "    <tr>\n",
       "      <th>4</th>\n",
       "      <td>Eddie Mcdaniel DVM</td>\n",
       "      <td>Eddie</td>\n",
       "      <td>Mcdaniel</td>\n",
       "    </tr>\n",
       "    <tr>\n",
       "      <th>...</th>\n",
       "      <td>...</td>\n",
       "      <td>...</td>\n",
       "      <td>...</td>\n",
       "    </tr>\n",
       "    <tr>\n",
       "      <th>995</th>\n",
       "      <td>جناب آقای دکتر عرفان تنزیلی</td>\n",
       "      <td>عرفان</td>\n",
       "      <td>تنزیلی</td>\n",
       "    </tr>\n",
       "    <tr>\n",
       "      <th>996</th>\n",
       "      <td>محمد مهدی جعفر پور</td>\n",
       "      <td>محمد مهدی جعفر</td>\n",
       "      <td>پور</td>\n",
       "    </tr>\n",
       "    <tr>\n",
       "      <th>997</th>\n",
       "      <td>یوسف مهدیان</td>\n",
       "      <td>یوسف</td>\n",
       "      <td>مهدیان</td>\n",
       "    </tr>\n",
       "    <tr>\n",
       "      <th>998</th>\n",
       "      <td>Emily Kennedy</td>\n",
       "      <td>Emily</td>\n",
       "      <td>Kennedy</td>\n",
       "    </tr>\n",
       "    <tr>\n",
       "      <th>999</th>\n",
       "      <td>Julia Gentry</td>\n",
       "      <td>Julia</td>\n",
       "      <td>Gentry</td>\n",
       "    </tr>\n",
       "  </tbody>\n",
       "</table>\n",
       "<p>1000 rows × 3 columns</p>\n",
       "</div>"
      ],
      "text/plain": [
       "                          people      first name last name\n",
       "0                   Joshua Reyes          Joshua     Reyes\n",
       "1                  عرفان علی پور       عرفان علی       پور\n",
       "2                 Danny Mcintosh           Danny  Mcintosh\n",
       "3        جناب آقای علیرضا چنگیزی          علیرضا    چنگیزی\n",
       "4             Eddie Mcdaniel DVM           Eddie  Mcdaniel\n",
       "..                           ...             ...       ...\n",
       "995  جناب آقای دکتر عرفان تنزیلی           عرفان    تنزیلی\n",
       "996           محمد مهدی جعفر پور  محمد مهدی جعفر       پور\n",
       "997                  یوسف مهدیان            یوسف    مهدیان\n",
       "998                Emily Kennedy           Emily   Kennedy\n",
       "999                 Julia Gentry           Julia    Gentry\n",
       "\n",
       "[1000 rows x 3 columns]"
      ]
     },
     "execution_count": 10,
     "metadata": {},
     "output_type": "execute_result"
    }
   ],
   "source": [
    "df['first name'] = df['people'].apply(lambda fn : extract_name_parts(fn)[0])\n",
    "df['last name'] = df['people'].apply(lambda ln : extract_name_parts(ln)[1])\n",
    "df"
   ]
  },
  {
   "cell_type": "markdown",
   "id": "4e713ab5-48e9-4666-b1a8-1a17ca15a05b",
   "metadata": {},
   "source": [
    "## finding gender method"
   ]
  },
  {
   "cell_type": "code",
   "execution_count": 11,
   "id": "e66267dc-7dfa-4e10-a742-199bec7516b8",
   "metadata": {},
   "outputs": [],
   "source": [
    "def name_to_gender(first_name):\n",
    "    info = nd.search(first_name)['first_name']\n",
    "    if info is None:\n",
    "        return\n",
    "    return max(info['gender'], key=info['gender'].get)"
   ]
  },
  {
   "cell_type": "code",
   "execution_count": 12,
   "id": "ca2a4381-9635-4852-a5b4-e8a4e9eb2fa9",
   "metadata": {},
   "outputs": [],
   "source": [
    "def name_to_gender_probability(first_name):\n",
    "    info = nd.search(first_name)['first_name']\n",
    "    if info is None:\n",
    "        return\n",
    "    return info['gender'][max(info['gender'], key=info['gender'].get)]"
   ]
  },
  {
   "cell_type": "markdown",
   "id": "0c92b381-7c3c-4ef0-93b0-c529ba14043c",
   "metadata": {},
   "source": [
    "### add gender column to data frame"
   ]
  },
  {
   "cell_type": "code",
   "execution_count": 13,
   "id": "e8ba1314-5268-4ee2-845a-c30c7e198127",
   "metadata": {},
   "outputs": [],
   "source": [
    "df['gender'] = df['first name'].apply(lambda name : name_to_gender(name))"
   ]
  },
  {
   "cell_type": "code",
   "execution_count": 14,
   "id": "d53a402a-fd86-4e63-bd4f-2a181a9584d4",
   "metadata": {},
   "outputs": [],
   "source": [
    "df['gender probablity'] = df['first name'].apply(lambda name : name_to_gender_probability(name))"
   ]
  },
  {
   "cell_type": "code",
   "execution_count": 15,
   "id": "450a663c-d9ae-49f0-9c95-0a22dafe4ec5",
   "metadata": {},
   "outputs": [
    {
     "data": {
      "text/html": [
       "<div>\n",
       "<style scoped>\n",
       "    .dataframe tbody tr th:only-of-type {\n",
       "        vertical-align: middle;\n",
       "    }\n",
       "\n",
       "    .dataframe tbody tr th {\n",
       "        vertical-align: top;\n",
       "    }\n",
       "\n",
       "    .dataframe thead th {\n",
       "        text-align: right;\n",
       "    }\n",
       "</style>\n",
       "<table border=\"1\" class=\"dataframe\">\n",
       "  <thead>\n",
       "    <tr style=\"text-align: right;\">\n",
       "      <th></th>\n",
       "      <th>people</th>\n",
       "      <th>first name</th>\n",
       "      <th>last name</th>\n",
       "      <th>gender</th>\n",
       "      <th>gender probablity</th>\n",
       "    </tr>\n",
       "  </thead>\n",
       "  <tbody>\n",
       "    <tr>\n",
       "      <th>0</th>\n",
       "      <td>Joshua Reyes</td>\n",
       "      <td>Joshua</td>\n",
       "      <td>Reyes</td>\n",
       "      <td>Male</td>\n",
       "      <td>0.987</td>\n",
       "    </tr>\n",
       "    <tr>\n",
       "      <th>1</th>\n",
       "      <td>عرفان علی پور</td>\n",
       "      <td>عرفان علی</td>\n",
       "      <td>پور</td>\n",
       "      <td>None</td>\n",
       "      <td>NaN</td>\n",
       "    </tr>\n",
       "    <tr>\n",
       "      <th>2</th>\n",
       "      <td>Danny Mcintosh</td>\n",
       "      <td>Danny</td>\n",
       "      <td>Mcintosh</td>\n",
       "      <td>Male</td>\n",
       "      <td>0.911</td>\n",
       "    </tr>\n",
       "    <tr>\n",
       "      <th>3</th>\n",
       "      <td>جناب آقای علیرضا چنگیزی</td>\n",
       "      <td>علیرضا</td>\n",
       "      <td>چنگیزی</td>\n",
       "      <td>Male</td>\n",
       "      <td>0.973</td>\n",
       "    </tr>\n",
       "    <tr>\n",
       "      <th>4</th>\n",
       "      <td>Eddie Mcdaniel DVM</td>\n",
       "      <td>Eddie</td>\n",
       "      <td>Mcdaniel</td>\n",
       "      <td>Male</td>\n",
       "      <td>0.984</td>\n",
       "    </tr>\n",
       "    <tr>\n",
       "      <th>...</th>\n",
       "      <td>...</td>\n",
       "      <td>...</td>\n",
       "      <td>...</td>\n",
       "      <td>...</td>\n",
       "      <td>...</td>\n",
       "    </tr>\n",
       "    <tr>\n",
       "      <th>995</th>\n",
       "      <td>جناب آقای دکتر عرفان تنزیلی</td>\n",
       "      <td>عرفان</td>\n",
       "      <td>تنزیلی</td>\n",
       "      <td>Male</td>\n",
       "      <td>0.957</td>\n",
       "    </tr>\n",
       "    <tr>\n",
       "      <th>996</th>\n",
       "      <td>محمد مهدی جعفر پور</td>\n",
       "      <td>محمد مهدی جعفر</td>\n",
       "      <td>پور</td>\n",
       "      <td>None</td>\n",
       "      <td>NaN</td>\n",
       "    </tr>\n",
       "    <tr>\n",
       "      <th>997</th>\n",
       "      <td>یوسف مهدیان</td>\n",
       "      <td>یوسف</td>\n",
       "      <td>مهدیان</td>\n",
       "      <td>Male</td>\n",
       "      <td>0.947</td>\n",
       "    </tr>\n",
       "    <tr>\n",
       "      <th>998</th>\n",
       "      <td>Emily Kennedy</td>\n",
       "      <td>Emily</td>\n",
       "      <td>Kennedy</td>\n",
       "      <td>Female</td>\n",
       "      <td>0.991</td>\n",
       "    </tr>\n",
       "    <tr>\n",
       "      <th>999</th>\n",
       "      <td>Julia Gentry</td>\n",
       "      <td>Julia</td>\n",
       "      <td>Gentry</td>\n",
       "      <td>Female</td>\n",
       "      <td>0.989</td>\n",
       "    </tr>\n",
       "  </tbody>\n",
       "</table>\n",
       "<p>1000 rows × 5 columns</p>\n",
       "</div>"
      ],
      "text/plain": [
       "                          people      first name last name  gender  \\\n",
       "0                   Joshua Reyes          Joshua     Reyes    Male   \n",
       "1                  عرفان علی پور       عرفان علی       پور    None   \n",
       "2                 Danny Mcintosh           Danny  Mcintosh    Male   \n",
       "3        جناب آقای علیرضا چنگیزی          علیرضا    چنگیزی    Male   \n",
       "4             Eddie Mcdaniel DVM           Eddie  Mcdaniel    Male   \n",
       "..                           ...             ...       ...     ...   \n",
       "995  جناب آقای دکتر عرفان تنزیلی           عرفان    تنزیلی    Male   \n",
       "996           محمد مهدی جعفر پور  محمد مهدی جعفر       پور    None   \n",
       "997                  یوسف مهدیان            یوسف    مهدیان    Male   \n",
       "998                Emily Kennedy           Emily   Kennedy  Female   \n",
       "999                 Julia Gentry           Julia    Gentry  Female   \n",
       "\n",
       "     gender probablity  \n",
       "0                0.987  \n",
       "1                  NaN  \n",
       "2                0.911  \n",
       "3                0.973  \n",
       "4                0.984  \n",
       "..                 ...  \n",
       "995              0.957  \n",
       "996                NaN  \n",
       "997              0.947  \n",
       "998              0.991  \n",
       "999              0.989  \n",
       "\n",
       "[1000 rows x 5 columns]"
      ]
     },
     "execution_count": 15,
     "metadata": {},
     "output_type": "execute_result"
    }
   ],
   "source": [
    "df"
   ]
  },
  {
   "cell_type": "markdown",
   "id": "13872205-0397-445f-b829-c934ab39802e",
   "metadata": {},
   "source": [
    "## finding country method"
   ]
  },
  {
   "cell_type": "code",
   "execution_count": 16,
   "id": "503aeb20-1492-49e6-aa30-48756480883e",
   "metadata": {},
   "outputs": [],
   "source": [
    "def name_to_country(first_name):\n",
    "    info = nd.search(first_name)['first_name']\n",
    "    if info is None:\n",
    "        return\n",
    "    return max(info['country'], key=info['country'].get)"
   ]
  },
  {
   "cell_type": "code",
   "execution_count": 17,
   "id": "49c7c7f2-c869-4263-ab51-b5b6f61032e8",
   "metadata": {},
   "outputs": [],
   "source": [
    "def name_to_country_probability(first_name):\n",
    "    info = nd.search(first_name)['first_name']\n",
    "    if info is None:\n",
    "        return\n",
    "    return info['country'][max(info['country'], key=info['country'].get)]"
   ]
  },
  {
   "cell_type": "markdown",
   "id": "ccb19b90-4f6c-42c4-a813-e71a4048b4f5",
   "metadata": {},
   "source": [
    "### add country column to data frame"
   ]
  },
  {
   "cell_type": "code",
   "execution_count": 18,
   "id": "0c5a270a-8704-4214-83d0-5ef642e295f4",
   "metadata": {},
   "outputs": [],
   "source": [
    "df['country'] = df['first name'].apply(lambda name : name_to_country(name))"
   ]
  },
  {
   "cell_type": "code",
   "execution_count": 19,
   "id": "99ece579-45de-4e42-9381-5229d4f5b4e7",
   "metadata": {},
   "outputs": [],
   "source": [
    "df['country probablity'] = df['first name'].apply(lambda name : name_to_country_probability(name))"
   ]
  },
  {
   "cell_type": "code",
   "execution_count": 20,
   "id": "f8e00d06-7091-4060-b9d3-8c2fc941211f",
   "metadata": {},
   "outputs": [
    {
     "data": {
      "text/html": [
       "<div>\n",
       "<style scoped>\n",
       "    .dataframe tbody tr th:only-of-type {\n",
       "        vertical-align: middle;\n",
       "    }\n",
       "\n",
       "    .dataframe tbody tr th {\n",
       "        vertical-align: top;\n",
       "    }\n",
       "\n",
       "    .dataframe thead th {\n",
       "        text-align: right;\n",
       "    }\n",
       "</style>\n",
       "<table border=\"1\" class=\"dataframe\">\n",
       "  <thead>\n",
       "    <tr style=\"text-align: right;\">\n",
       "      <th></th>\n",
       "      <th>people</th>\n",
       "      <th>first name</th>\n",
       "      <th>last name</th>\n",
       "      <th>gender</th>\n",
       "      <th>gender probablity</th>\n",
       "      <th>country</th>\n",
       "      <th>country probablity</th>\n",
       "    </tr>\n",
       "  </thead>\n",
       "  <tbody>\n",
       "    <tr>\n",
       "      <th>0</th>\n",
       "      <td>Joshua Reyes</td>\n",
       "      <td>Joshua</td>\n",
       "      <td>Reyes</td>\n",
       "      <td>Male</td>\n",
       "      <td>0.987</td>\n",
       "      <td>United States</td>\n",
       "      <td>0.510</td>\n",
       "    </tr>\n",
       "    <tr>\n",
       "      <th>1</th>\n",
       "      <td>عرفان علی پور</td>\n",
       "      <td>عرفان علی</td>\n",
       "      <td>پور</td>\n",
       "      <td>None</td>\n",
       "      <td>NaN</td>\n",
       "      <td>None</td>\n",
       "      <td>NaN</td>\n",
       "    </tr>\n",
       "    <tr>\n",
       "      <th>2</th>\n",
       "      <td>Danny Mcintosh</td>\n",
       "      <td>Danny</td>\n",
       "      <td>Mcintosh</td>\n",
       "      <td>Male</td>\n",
       "      <td>0.911</td>\n",
       "      <td>United States</td>\n",
       "      <td>0.332</td>\n",
       "    </tr>\n",
       "    <tr>\n",
       "      <th>3</th>\n",
       "      <td>جناب آقای علیرضا چنگیزی</td>\n",
       "      <td>علیرضا</td>\n",
       "      <td>چنگیزی</td>\n",
       "      <td>Male</td>\n",
       "      <td>0.973</td>\n",
       "      <td>Iran, Islamic Republic of</td>\n",
       "      <td>0.920</td>\n",
       "    </tr>\n",
       "    <tr>\n",
       "      <th>4</th>\n",
       "      <td>Eddie Mcdaniel DVM</td>\n",
       "      <td>Eddie</td>\n",
       "      <td>Mcdaniel</td>\n",
       "      <td>Male</td>\n",
       "      <td>0.984</td>\n",
       "      <td>United States</td>\n",
       "      <td>0.501</td>\n",
       "    </tr>\n",
       "    <tr>\n",
       "      <th>...</th>\n",
       "      <td>...</td>\n",
       "      <td>...</td>\n",
       "      <td>...</td>\n",
       "      <td>...</td>\n",
       "      <td>...</td>\n",
       "      <td>...</td>\n",
       "      <td>...</td>\n",
       "    </tr>\n",
       "    <tr>\n",
       "      <th>995</th>\n",
       "      <td>جناب آقای دکتر عرفان تنزیلی</td>\n",
       "      <td>عرفان</td>\n",
       "      <td>تنزیلی</td>\n",
       "      <td>Male</td>\n",
       "      <td>0.957</td>\n",
       "      <td>Saudi Arabia</td>\n",
       "      <td>0.240</td>\n",
       "    </tr>\n",
       "    <tr>\n",
       "      <th>996</th>\n",
       "      <td>محمد مهدی جعفر پور</td>\n",
       "      <td>محمد مهدی جعفر</td>\n",
       "      <td>پور</td>\n",
       "      <td>None</td>\n",
       "      <td>NaN</td>\n",
       "      <td>None</td>\n",
       "      <td>NaN</td>\n",
       "    </tr>\n",
       "    <tr>\n",
       "      <th>997</th>\n",
       "      <td>یوسف مهدیان</td>\n",
       "      <td>یوسف</td>\n",
       "      <td>مهدیان</td>\n",
       "      <td>Male</td>\n",
       "      <td>0.947</td>\n",
       "      <td>Iran, Islamic Republic of</td>\n",
       "      <td>0.338</td>\n",
       "    </tr>\n",
       "    <tr>\n",
       "      <th>998</th>\n",
       "      <td>Emily Kennedy</td>\n",
       "      <td>Emily</td>\n",
       "      <td>Kennedy</td>\n",
       "      <td>Female</td>\n",
       "      <td>0.991</td>\n",
       "      <td>United States</td>\n",
       "      <td>0.464</td>\n",
       "    </tr>\n",
       "    <tr>\n",
       "      <th>999</th>\n",
       "      <td>Julia Gentry</td>\n",
       "      <td>Julia</td>\n",
       "      <td>Gentry</td>\n",
       "      <td>Female</td>\n",
       "      <td>0.989</td>\n",
       "      <td>United States</td>\n",
       "      <td>0.205</td>\n",
       "    </tr>\n",
       "  </tbody>\n",
       "</table>\n",
       "<p>1000 rows × 7 columns</p>\n",
       "</div>"
      ],
      "text/plain": [
       "                          people      first name last name  gender  \\\n",
       "0                   Joshua Reyes          Joshua     Reyes    Male   \n",
       "1                  عرفان علی پور       عرفان علی       پور    None   \n",
       "2                 Danny Mcintosh           Danny  Mcintosh    Male   \n",
       "3        جناب آقای علیرضا چنگیزی          علیرضا    چنگیزی    Male   \n",
       "4             Eddie Mcdaniel DVM           Eddie  Mcdaniel    Male   \n",
       "..                           ...             ...       ...     ...   \n",
       "995  جناب آقای دکتر عرفان تنزیلی           عرفان    تنزیلی    Male   \n",
       "996           محمد مهدی جعفر پور  محمد مهدی جعفر       پور    None   \n",
       "997                  یوسف مهدیان            یوسف    مهدیان    Male   \n",
       "998                Emily Kennedy           Emily   Kennedy  Female   \n",
       "999                 Julia Gentry           Julia    Gentry  Female   \n",
       "\n",
       "     gender probablity                    country  country probablity  \n",
       "0                0.987              United States               0.510  \n",
       "1                  NaN                       None                 NaN  \n",
       "2                0.911              United States               0.332  \n",
       "3                0.973  Iran, Islamic Republic of               0.920  \n",
       "4                0.984              United States               0.501  \n",
       "..                 ...                        ...                 ...  \n",
       "995              0.957               Saudi Arabia               0.240  \n",
       "996                NaN                       None                 NaN  \n",
       "997              0.947  Iran, Islamic Republic of               0.338  \n",
       "998              0.991              United States               0.464  \n",
       "999              0.989              United States               0.205  \n",
       "\n",
       "[1000 rows x 7 columns]"
      ]
     },
     "execution_count": 20,
     "metadata": {},
     "output_type": "execute_result"
    }
   ],
   "source": [
    "df"
   ]
  },
  {
   "cell_type": "code",
   "execution_count": 21,
   "id": "7425c396-5342-4a54-a2a1-9946b1052016",
   "metadata": {},
   "outputs": [],
   "source": [
    "df['gender'] = df['gender'].replace({'Male': 0, 'Female': 1})"
   ]
  },
  {
   "cell_type": "code",
   "execution_count": 22,
   "id": "b2cfc5e2-c664-40e0-8cec-250dbd582a9e",
   "metadata": {},
   "outputs": [
    {
     "data": {
      "text/html": [
       "<div>\n",
       "<style scoped>\n",
       "    .dataframe tbody tr th:only-of-type {\n",
       "        vertical-align: middle;\n",
       "    }\n",
       "\n",
       "    .dataframe tbody tr th {\n",
       "        vertical-align: top;\n",
       "    }\n",
       "\n",
       "    .dataframe thead th {\n",
       "        text-align: right;\n",
       "    }\n",
       "</style>\n",
       "<table border=\"1\" class=\"dataframe\">\n",
       "  <thead>\n",
       "    <tr style=\"text-align: right;\">\n",
       "      <th></th>\n",
       "      <th>people</th>\n",
       "      <th>first name</th>\n",
       "      <th>last name</th>\n",
       "      <th>gender</th>\n",
       "      <th>gender probablity</th>\n",
       "      <th>country</th>\n",
       "      <th>country probablity</th>\n",
       "    </tr>\n",
       "  </thead>\n",
       "  <tbody>\n",
       "    <tr>\n",
       "      <th>0</th>\n",
       "      <td>Joshua Reyes</td>\n",
       "      <td>Joshua</td>\n",
       "      <td>Reyes</td>\n",
       "      <td>0.0</td>\n",
       "      <td>0.987</td>\n",
       "      <td>United States</td>\n",
       "      <td>0.510</td>\n",
       "    </tr>\n",
       "    <tr>\n",
       "      <th>1</th>\n",
       "      <td>عرفان علی پور</td>\n",
       "      <td>عرفان علی</td>\n",
       "      <td>پور</td>\n",
       "      <td>NaN</td>\n",
       "      <td>NaN</td>\n",
       "      <td>None</td>\n",
       "      <td>NaN</td>\n",
       "    </tr>\n",
       "    <tr>\n",
       "      <th>2</th>\n",
       "      <td>Danny Mcintosh</td>\n",
       "      <td>Danny</td>\n",
       "      <td>Mcintosh</td>\n",
       "      <td>0.0</td>\n",
       "      <td>0.911</td>\n",
       "      <td>United States</td>\n",
       "      <td>0.332</td>\n",
       "    </tr>\n",
       "    <tr>\n",
       "      <th>3</th>\n",
       "      <td>جناب آقای علیرضا چنگیزی</td>\n",
       "      <td>علیرضا</td>\n",
       "      <td>چنگیزی</td>\n",
       "      <td>0.0</td>\n",
       "      <td>0.973</td>\n",
       "      <td>Iran, Islamic Republic of</td>\n",
       "      <td>0.920</td>\n",
       "    </tr>\n",
       "    <tr>\n",
       "      <th>4</th>\n",
       "      <td>Eddie Mcdaniel DVM</td>\n",
       "      <td>Eddie</td>\n",
       "      <td>Mcdaniel</td>\n",
       "      <td>0.0</td>\n",
       "      <td>0.984</td>\n",
       "      <td>United States</td>\n",
       "      <td>0.501</td>\n",
       "    </tr>\n",
       "    <tr>\n",
       "      <th>...</th>\n",
       "      <td>...</td>\n",
       "      <td>...</td>\n",
       "      <td>...</td>\n",
       "      <td>...</td>\n",
       "      <td>...</td>\n",
       "      <td>...</td>\n",
       "      <td>...</td>\n",
       "    </tr>\n",
       "    <tr>\n",
       "      <th>995</th>\n",
       "      <td>جناب آقای دکتر عرفان تنزیلی</td>\n",
       "      <td>عرفان</td>\n",
       "      <td>تنزیلی</td>\n",
       "      <td>0.0</td>\n",
       "      <td>0.957</td>\n",
       "      <td>Saudi Arabia</td>\n",
       "      <td>0.240</td>\n",
       "    </tr>\n",
       "    <tr>\n",
       "      <th>996</th>\n",
       "      <td>محمد مهدی جعفر پور</td>\n",
       "      <td>محمد مهدی جعفر</td>\n",
       "      <td>پور</td>\n",
       "      <td>NaN</td>\n",
       "      <td>NaN</td>\n",
       "      <td>None</td>\n",
       "      <td>NaN</td>\n",
       "    </tr>\n",
       "    <tr>\n",
       "      <th>997</th>\n",
       "      <td>یوسف مهدیان</td>\n",
       "      <td>یوسف</td>\n",
       "      <td>مهدیان</td>\n",
       "      <td>0.0</td>\n",
       "      <td>0.947</td>\n",
       "      <td>Iran, Islamic Republic of</td>\n",
       "      <td>0.338</td>\n",
       "    </tr>\n",
       "    <tr>\n",
       "      <th>998</th>\n",
       "      <td>Emily Kennedy</td>\n",
       "      <td>Emily</td>\n",
       "      <td>Kennedy</td>\n",
       "      <td>1.0</td>\n",
       "      <td>0.991</td>\n",
       "      <td>United States</td>\n",
       "      <td>0.464</td>\n",
       "    </tr>\n",
       "    <tr>\n",
       "      <th>999</th>\n",
       "      <td>Julia Gentry</td>\n",
       "      <td>Julia</td>\n",
       "      <td>Gentry</td>\n",
       "      <td>1.0</td>\n",
       "      <td>0.989</td>\n",
       "      <td>United States</td>\n",
       "      <td>0.205</td>\n",
       "    </tr>\n",
       "  </tbody>\n",
       "</table>\n",
       "<p>1000 rows × 7 columns</p>\n",
       "</div>"
      ],
      "text/plain": [
       "                          people      first name last name  gender  \\\n",
       "0                   Joshua Reyes          Joshua     Reyes     0.0   \n",
       "1                  عرفان علی پور       عرفان علی       پور     NaN   \n",
       "2                 Danny Mcintosh           Danny  Mcintosh     0.0   \n",
       "3        جناب آقای علیرضا چنگیزی          علیرضا    چنگیزی     0.0   \n",
       "4             Eddie Mcdaniel DVM           Eddie  Mcdaniel     0.0   \n",
       "..                           ...             ...       ...     ...   \n",
       "995  جناب آقای دکتر عرفان تنزیلی           عرفان    تنزیلی     0.0   \n",
       "996           محمد مهدی جعفر پور  محمد مهدی جعفر       پور     NaN   \n",
       "997                  یوسف مهدیان            یوسف    مهدیان     0.0   \n",
       "998                Emily Kennedy           Emily   Kennedy     1.0   \n",
       "999                 Julia Gentry           Julia    Gentry     1.0   \n",
       "\n",
       "     gender probablity                    country  country probablity  \n",
       "0                0.987              United States               0.510  \n",
       "1                  NaN                       None                 NaN  \n",
       "2                0.911              United States               0.332  \n",
       "3                0.973  Iran, Islamic Republic of               0.920  \n",
       "4                0.984              United States               0.501  \n",
       "..                 ...                        ...                 ...  \n",
       "995              0.957               Saudi Arabia               0.240  \n",
       "996                NaN                       None                 NaN  \n",
       "997              0.947  Iran, Islamic Republic of               0.338  \n",
       "998              0.991              United States               0.464  \n",
       "999              0.989              United States               0.205  \n",
       "\n",
       "[1000 rows x 7 columns]"
      ]
     },
     "execution_count": 22,
     "metadata": {},
     "output_type": "execute_result"
    }
   ],
   "source": [
    "df"
   ]
  },
  {
   "cell_type": "code",
   "execution_count": 23,
   "id": "8c1a64a6-43e6-4312-a898-937043081130",
   "metadata": {
    "tags": []
   },
   "outputs": [],
   "source": [
    "top5 = df['country'].value_counts().head(5)\n",
    "other_count = df['country'].nunique() - top5.shape[0]\n",
    "other = pd.Series({'Other': other_count})"
   ]
  },
  {
   "cell_type": "code",
   "execution_count": 24,
   "id": "d5c3aee9-5743-415e-9161-c68054c8f995",
   "metadata": {
    "tags": []
   },
   "outputs": [],
   "source": [
    "combined_categories = pd.concat([top5, other])"
   ]
  },
  {
   "cell_type": "code",
   "execution_count": 25,
   "id": "92d5789d-c1a6-4f97-8ec0-9afa4607cf3c",
   "metadata": {
    "tags": []
   },
   "outputs": [
    {
     "data": {
      "image/png": "[encoded data removed]",
      "text/plain": [
       "<Figure size 640x480 with 1 Axes>"
      ]
     },
     "metadata": {},
     "output_type": "display_data"
    }
   ],
   "source": [
    "plt.pie(combined_categories, labels=combined_categories.index, autopct='%1.1f%%', startangle=0)\n",
    "plt.title('Top 5 country')\n",
    "plt.show()"
   ]
  },
  {
   "cell_type": "markdown",
   "id": "d6e6fb15-c1e6-4b2c-abcb-3d0dc7cdb399",
   "metadata": {},
   "source": [
    "\n",
    "\n",
    "\n",
    "\n",
    "\n",
    "\n",
    "\n",
    "\n",
    "\n",
    "\n"
   ]
  },
  {
   "cell_type": "markdown",
   "id": "ad232b77-d6a3-4387-a388-e692703ade47",
   "metadata": {},
   "source": [
    "# telegram chat gender finding"
   ]
  },
  {
   "cell_type": "markdown",
   "id": "7e1b30a6-7640-4f32-83ed-2c11ddaea399",
   "metadata": {},
   "source": [
    "export telegram chat group in windows version and load it"
   ]
  },
  {
   "cell_type": "code",
   "execution_count": 26,
   "id": "ddf10a5d-431c-4a4c-9835-f5f6a9abe806",
   "metadata": {
    "tags": []
   },
   "outputs": [],
   "source": [
    "with open('result.json') as f:\n",
    "    data = json.load(f)"
   ]
  },
  {
   "cell_type": "markdown",
   "id": "6c95166e-7334-43fa-8db9-2ababa2ac213",
   "metadata": {},
   "source": [
    "Get the names of individuals who have sent at least one message in the group:"
   ]
  },
  {
   "cell_type": "code",
   "execution_count": 27,
   "id": "5f2dc62c-e8c0-46f0-9673-4482528411ef",
   "metadata": {
    "tags": []
   },
   "outputs": [],
   "source": [
    "names = []\n",
    "id_set = set()\n",
    "for msg in data['messages']:\n",
    "    if not msg.get('from'):\n",
    "        continue\n",
    "    if msg['from_id'] in id_set:\n",
    "        continue\n",
    "    id_set.add(msg['from_id'])\n",
    "    names.append(msg['from'])"
   ]
  },
  {
   "cell_type": "markdown",
   "id": "ec4f7cd9-9f59-4eb0-8e21-84f7bf329578",
   "metadata": {},
   "source": [
    "get the first_name and filter it:"
   ]
  },
  {
   "cell_type": "code",
   "execution_count": 28,
   "id": "a4f29499-6fed-42a7-bea3-8a565ef338a9",
   "metadata": {
    "tags": []
   },
   "outputs": [],
   "source": [
    "first_names = [n.split()[0] for n in names]\n",
    "first_names = list(filter(lambda fn: len(fn) > 2, first_names))"
   ]
  },
  {
   "cell_type": "markdown",
   "id": "746fc0de-e370-4f18-ad7e-cf00985d6b37",
   "metadata": {},
   "source": [
    "most common names in group:"
   ]
  },
  {
   "cell_type": "code",
   "execution_count": 29,
   "id": "42b4d6df-9e62-4f60-85b7-784fedb365a4",
   "metadata": {
    "tags": []
   },
   "outputs": [
    {
     "data": {
      "text/plain": [
       "[('Ali', 48),\n",
       " ('Mohammad', 37),\n",
       " ('Amir', 26),\n",
       " ('Maryam', 21),\n",
       " ('Zahra', 17),\n",
       " ('Alireza', 14),\n",
       " ('Fateme', 13),\n",
       " ('Reza', 12),\n",
       " ('Sina', 11),\n",
       " ('Erfan', 11)]"
      ]
     },
     "execution_count": 29,
     "metadata": {},
     "output_type": "execute_result"
    }
   ],
   "source": [
    "Counter(first_names).most_common(10)"
   ]
  },
  {
   "cell_type": "markdown",
   "id": "3d1c23ad-90bf-4239-a2f8-a35ebbeec911",
   "metadata": {},
   "source": [
    "make a DataFrame from these names:"
   ]
  },
  {
   "cell_type": "code",
   "execution_count": 30,
   "id": "1eb5328a-3092-4e0e-b196-fd25b7a8851c",
   "metadata": {
    "tags": []
   },
   "outputs": [],
   "source": [
    "df_chat = pd.DataFrame(\n",
    "    {\n",
    "        'names' : first_names\n",
    "    }\n",
    ")"
   ]
  },
  {
   "cell_type": "code",
   "execution_count": 31,
   "id": "987377d6-607b-433b-896b-2d9a3b68ddca",
   "metadata": {
    "tags": []
   },
   "outputs": [],
   "source": [
    "df_chat['gender'] = df_chat['names'].apply(name_to_gender)"
   ]
  },
  {
   "cell_type": "code",
   "execution_count": 32,
   "id": "33df9cfa-aa42-47f0-b3f8-735f550c652f",
   "metadata": {
    "tags": []
   },
   "outputs": [
    {
     "data": {
      "text/html": [
       "<div>\n",
       "<style scoped>\n",
       "    .dataframe tbody tr th:only-of-type {\n",
       "        vertical-align: middle;\n",
       "    }\n",
       "\n",
       "    .dataframe tbody tr th {\n",
       "        vertical-align: top;\n",
       "    }\n",
       "\n",
       "    .dataframe thead th {\n",
       "        text-align: right;\n",
       "    }\n",
       "</style>\n",
       "<table border=\"1\" class=\"dataframe\">\n",
       "  <thead>\n",
       "    <tr style=\"text-align: right;\">\n",
       "      <th></th>\n",
       "      <th>names</th>\n",
       "      <th>gender</th>\n",
       "    </tr>\n",
       "  </thead>\n",
       "  <tbody>\n",
       "    <tr>\n",
       "      <th>0</th>\n",
       "      <td>a.20</td>\n",
       "      <td>None</td>\n",
       "    </tr>\n",
       "    <tr>\n",
       "      <th>1</th>\n",
       "      <td>Sobhan</td>\n",
       "      <td>Male</td>\n",
       "    </tr>\n",
       "    <tr>\n",
       "      <th>2</th>\n",
       "      <td>Good</td>\n",
       "      <td>Male</td>\n",
       "    </tr>\n",
       "    <tr>\n",
       "      <th>3</th>\n",
       "      <td>Sima</td>\n",
       "      <td>Female</td>\n",
       "    </tr>\n",
       "    <tr>\n",
       "      <th>4</th>\n",
       "      <td>hwsyn.si</td>\n",
       "      <td>None</td>\n",
       "    </tr>\n",
       "    <tr>\n",
       "      <th>...</th>\n",
       "      <td>...</td>\n",
       "      <td>...</td>\n",
       "    </tr>\n",
       "    <tr>\n",
       "      <th>1379</th>\n",
       "      <td>Mary</td>\n",
       "      <td>Female</td>\n",
       "    </tr>\n",
       "    <tr>\n",
       "      <th>1380</th>\n",
       "      <td>Saeid</td>\n",
       "      <td>Male</td>\n",
       "    </tr>\n",
       "    <tr>\n",
       "      <th>1381</th>\n",
       "      <td>ᴀᴍɪʀᴀʟɪ</td>\n",
       "      <td>None</td>\n",
       "    </tr>\n",
       "    <tr>\n",
       "      <th>1382</th>\n",
       "      <td>Ali</td>\n",
       "      <td>Male</td>\n",
       "    </tr>\n",
       "    <tr>\n",
       "      <th>1383</th>\n",
       "      <td>Aristocles</td>\n",
       "      <td>None</td>\n",
       "    </tr>\n",
       "  </tbody>\n",
       "</table>\n",
       "<p>1384 rows × 2 columns</p>\n",
       "</div>"
      ],
      "text/plain": [
       "           names  gender\n",
       "0           a.20    None\n",
       "1         Sobhan    Male\n",
       "2           Good    Male\n",
       "3           Sima  Female\n",
       "4       hwsyn.si    None\n",
       "...          ...     ...\n",
       "1379        Mary  Female\n",
       "1380       Saeid    Male\n",
       "1381     ᴀᴍɪʀᴀʟɪ    None\n",
       "1382         Ali    Male\n",
       "1383  Aristocles    None\n",
       "\n",
       "[1384 rows x 2 columns]"
      ]
     },
     "execution_count": 32,
     "metadata": {},
     "output_type": "execute_result"
    }
   ],
   "source": [
    "df_chat"
   ]
  },
  {
   "cell_type": "code",
   "execution_count": 33,
   "id": "c8094bf6-f761-4643-a98e-3c7f25cfa9e7",
   "metadata": {
    "tags": []
   },
   "outputs": [
    {
     "data": {
      "text/plain": [
       "gender\n",
       "Male      651\n",
       "Female    476\n",
       "Name: count, dtype: int64"
      ]
     },
     "execution_count": 33,
     "metadata": {},
     "output_type": "execute_result"
    }
   ],
   "source": [
    "df_chat['gender'].value_counts()"
   ]
  },
  {
   "cell_type": "code",
   "execution_count": 34,
   "id": "d8a6e33b-8048-4acd-b6ec-48a65a25a86f",
   "metadata": {
    "tags": []
   },
   "outputs": [
    {
     "data": {
      "text/plain": [
       "257"
      ]
     },
     "execution_count": 34,
     "metadata": {},
     "output_type": "execute_result"
    }
   ],
   "source": [
    "non_count = df_chat['gender'].isna().sum()\n",
    "non_count"
   ]
  },
  {
   "cell_type": "code",
   "execution_count": 35,
   "id": "dcf70676-7772-4637-9cbf-d11ee1451e0f",
   "metadata": {
    "tags": []
   },
   "outputs": [
    {
     "data": {
      "image/png": "[encoded data removed]",
      "text/plain": [
       "<Figure size 640x480 with 1 Axes>"
      ]
     },
     "metadata": {},
     "output_type": "display_data"
    }
   ],
   "source": [
    "genders = ['Male', 'Female', 'Non']\n",
    "counts = [651, 476, non_count]\n",
    "\n",
    "# Create a bar chart\n",
    "plt.bar(genders, counts, color=['blue', 'pink', 'gray'])\n",
    "\n",
    "# Add labels and a title\n",
    "plt.xlabel('Gender')\n",
    "plt.ylabel('Count')\n",
    "plt.title('Gender Distribution')\n",
    "plt.show()"
   ]
  },
  {
   "cell_type": "code",
   "execution_count": 36,
   "id": "c953b691-77eb-4569-a63f-24b354f5a23b",
   "metadata": {
    "tags": []
   },
   "outputs": [
    {
     "name": "stdout",
     "output_type": "stream",
     "text": [
      "hi\n"
     ]
    }
   ],
   "source": [
    "print('hi')"
   ]
  },
  {
   "cell_type": "code",
   "execution_count": null,
   "id": "79b29549-141e-4ebd-a08e-5b502c8e939d",
   "metadata": {},
   "outputs": [],
   "source": []
  }
 ],
 "metadata": {
  "kernelspec": {
   "display_name": "Python 3 (ipykernel)",
   "language": "python",
   "name": "python3"
  },
  "language_info": {
   "codemirror_mode": {
    "name": "ipython",
    "version": 3
   },
   "file_extension": ".py",
   "mimetype": "text/x-python",
   "name": "python",
   "nbconvert_exporter": "python",
   "pygments_lexer": "ipython3",
   "version": "3.11.5"
  }
 },
 "nbformat": 4,
 "nbformat_minor": 5
}
