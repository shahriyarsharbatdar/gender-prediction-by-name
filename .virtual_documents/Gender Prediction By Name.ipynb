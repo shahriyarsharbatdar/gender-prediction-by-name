


!pip install names-dataset
!pip install Faker


import numpy as np
import pandas as pd
import matplotlib.pyplot as plt
import seaborn as sns
import re


from names_dataset import NameDataset
from faker import Faker
fake = Faker(['en_US','fa'])
nd = NameDataset()





df = pd.DataFrame(
    {
    "people" : [fake.name() for _ in range(100)],
    }
)


df





def extract_name_parts(full_name):
    # Use regular expression to find titles and suffixes
    title_suffix_pattern = r'\b(?:Mr\.|Mrs\.|Ms\.|Dr\.|DVM|MD|جناب|آقای|دکتر|خانم|سرکار)\s?\b'

    # Remove titles and suffixes from the full name
    name_without_title_suffix = re.sub(title_suffix_pattern, '', full_name, flags=re.IGNORECASE)

    # Split the name into words
    words = name_without_title_suffix.split()

    # First name is the combination of all words except the last one
    first_name = ' '.join(words[:-1])

    # Last name is the last word
    last_name = words[-1]

    return first_name, last_name





df['first name'] = df['people'].apply(lambda fn : extract_name_parts(fn)[0])
df['last name'] = df['people'].apply(lambda ln : extract_name_parts(ln)[1])
df





def name_to_gender(first_name):
    info = nd.search(first_name)['first_name']
    if info is None:
        return
    return max(info['gender'], key=info['gender'].get)


def name_to_gender_probability(first_name):
    info = nd.search(first_name)['first_name']
    if info is None:
        return
    return info['gender'][max(info['gender'], key=info['gender'].get)]





df['gender'] = df['first name'].apply(lambda name : name_to_gender(name))


df['gender probablity'] = df['first name'].apply(lambda name : name_to_gender_probability(name))


df





def name_to_country(first_name):
    info = nd.search(first_name)['first_name']
    if info is None:
        return
    return max(info['country'], key=info['country'].get)


def name_to_country_probability(first_name):
    info = nd.search(first_name)['first_name']
    if info is None:
        return
    return info['country'][max(info['country'], key=info['country'].get)]





df['country'] = df['first name'].apply(lambda name : name_to_country(name))


df['country probablity'] = df['first name'].apply(lambda name : name_to_country_probability(name))


df


df['gender'] = df['gender'].replace({'Male': 0, 'Female': 1})


df


country_counts = df['country'].value_counts()

plt.figure(figsize=(8, 8))
pie_chart = country_counts.plot.pie(autopct='%1.1f%%', startangle=0, labeldistance=1.1)
pie_chart.set_ylabel('')  # To remove the default 'Country' label on the y-axis
plt.title('Country Distribution')



